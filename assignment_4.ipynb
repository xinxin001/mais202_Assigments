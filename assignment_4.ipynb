{
  "nbformat": 4,
  "nbformat_minor": 0,
  "metadata": {
    "kernelspec": {
      "name": "python3",
      "display_name": "Python 3",
      "language": "python"
    },
    "language_info": {
      "name": "python",
      "version": "3.7.6",
      "mimetype": "text/x-python",
      "codemirror_mode": {
        "name": "ipython",
        "version": 3
      },
      "pygments_lexer": "ipython3",
      "nbconvert_exporter": "python",
      "file_extension": ".py"
    },
    "colab": {
      "name": "assignment-4.ipynb",
      "provenance": [],
      "collapsed_sections": []
    },
    "accelerator": "GPU"
  },
  "cells": [
    {
      "cell_type": "code",
      "metadata": {
        "_uuid": "8f2839f25d086af736a60e9eeb907d3b93b6e0e5",
        "_cell_guid": "b1076dfc-b9ad-4769-8c92-a6c4dae69d19",
        "trusted": true,
        "colab": {
          "base_uri": "https://localhost:8080/"
        },
        "id": "Ir1w6KonIkq9",
        "outputId": "b2709ac4-2f08-4fd3-935b-5c43ef71f92d"
      },
      "source": [
        "import numpy as np \n",
        "import pandas as pd\n",
        "\n",
        "from keras.applications import vgg16\n",
        "from keras.layers import Input, MaxPooling2D, Conv2D, Flatten, Dense, Conv2DTranspose, Reshape, Lambda, Activation, BatchNormalization, LeakyReLU, Dropout, ZeroPadding2D, UpSampling2D\n",
        "from keras.models import Model, Sequential, load_model\n",
        "from keras import backend as K\n",
        "from keras import optimizers\n",
        "from keras import utils\n",
        "from keras.initializers import RandomNormal\n",
        "from keras.preprocessing.image import ImageDataGenerator\n",
        "\n",
        "import cv2\n",
        "import os\n",
        "from PIL import Image\n",
        "import json\n",
        "import os\n",
        "import time\n",
        "from tqdm import tqdm\n",
        "import matplotlib.pyplot as plt\n",
        "\n",
        "\n",
        "os.listdir()"
      ],
      "execution_count": 1,
      "outputs": [
        {
          "output_type": "execute_result",
          "data": {
            "text/plain": [
              "['.config',\n",
              " '.ipynb_checkpoints',\n",
              " '2nd_model',\n",
              " 'train_y.csv',\n",
              " 'train_x.npy',\n",
              " 'train_x_pre.npy',\n",
              " 'test_x.npy',\n",
              " 'first_model',\n",
              " 'results.zip',\n",
              " '2nd_model.zip',\n",
              " 'test_x_pre.npy',\n",
              " 'first_model.zip',\n",
              " 'sample_data']"
            ]
          },
          "metadata": {
            "tags": []
          },
          "execution_count": 1
        }
      ]
    },
    {
      "cell_type": "code",
      "metadata": {
        "colab": {
          "base_uri": "https://localhost:8080/"
        },
        "id": "6HK0ggGhP47V",
        "outputId": "1fd6fc02-c19c-4ef3-956a-139623c62763"
      },
      "source": [
        "!unzip test_x.npy.zip\n",
        "!unzip train_x.npy.zip"
      ],
      "execution_count": null,
      "outputs": [
        {
          "output_type": "stream",
          "text": [
            "Archive:  test_x.npy.zip\n",
            "replace test_x.npy? [y]es, [n]o, [A]ll, [N]one, [r]ename: n\n",
            "Archive:  train_x.npy.zip\n",
            "replace train_x.npy? [y]es, [n]o, [A]ll, [N]one, [r]ename: n\n"
          ],
          "name": "stdout"
        }
      ]
    },
    {
      "cell_type": "code",
      "metadata": {
        "_uuid": "d629ff2d2480ee46fbb7e2d37f6b5fab8052498a",
        "_cell_guid": "79c7e3d0-c299-4dcb-8224-4455121ee9b0",
        "trusted": true,
        "id": "2BYJHvSDIkq-"
      },
      "source": [
        "# Load Dataset\n",
        "train_x = np.load(\"train_x_pre.npy\")\n",
        "test_x = np.load(\"test_x_pre.npy\")\n",
        "train_y = pd.read_csv(\"train_y.csv\")\n",
        "train_y = train_y.Label.to_numpy()"
      ],
      "execution_count": 2,
      "outputs": []
    },
    {
      "cell_type": "code",
      "metadata": {
        "colab": {
          "base_uri": "https://localhost:8080/",
          "height": 341
        },
        "id": "ENWZ9GrNc5-B",
        "outputId": "c51a72d3-7fe5-4cea-ee97-75c4486d7e46"
      },
      "source": [
        "def show_image(arr):\n",
        "    two_d = (np.reshape(arr, (128, 128)) * 255).astype(np.uint8)\n",
        "    plt.imshow(two_d, interpolation='nearest')\n",
        "    plt.show()\n",
        "\n",
        "show_image(train_x[0])\n",
        "print(f'Image shape: {train_x[0].shape}')\n",
        "print(f'Label: {train_y[0]}')\n",
        "print(f'X train size: {train_x.shape}')\n",
        "print(f'Y train size: {len(train_y)}')"
      ],
      "execution_count": 3,
      "outputs": [
        {
          "output_type": "display_data",
          "data": {
            "image/png": "[encoded data removed]",
            "text/plain": [
              "<Figure size 432x288 with 1 Axes>"
            ]
          },
          "metadata": {
            "tags": [],
            "needs_background": "light"
          }
        },
        {
          "output_type": "stream",
          "text": [
            "Image shape: (128, 128, 1)\n",
            "Label: 6\n",
            "X train size: (40000, 128, 128, 1)\n",
            "Y train size: 40000\n"
          ],
          "name": "stdout"
        }
      ]
    },
    {
      "cell_type": "code",
      "metadata": {
        "id": "b43cpssTMP6l"
      },
      "source": [
        "test_x = np.load(\"test_x_pre.npy\")"
      ],
      "execution_count": 12,
      "outputs": []
    },
    {
      "cell_type": "code",
      "metadata": {
        "id": "HwcCCKTITP6n"
      },
      "source": [
        "num_classes = 10\n",
        "input_shape = (128,128,1)\n",
        "batch_size = 30\n",
        "epochs = 30"
      ],
      "execution_count": 4,
      "outputs": []
    },
    {
      "cell_type": "code",
      "metadata": {
        "trusted": true,
        "colab": {
          "base_uri": "https://localhost:8080/",
          "height": 187
        },
        "id": "d4qMmYvaIkq-",
        "cellView": "form",
        "outputId": "69fbc91e-242b-4f3e-dc6c-f627ec8165f7"
      },
      "source": [
        "#@title img processing test\n",
        "threshold = 220\n",
        "i = 2\n",
        "test = train_x[i]\n",
        "denoised = cv2.fastNlMeansDenoising(np.uint8(test),90,25,7,21)\n",
        "ret,thresh = cv2.threshold(denoised,threshold,255,cv2.THRESH_BINARY)\n",
        "\n",
        "plt.subplot(1,2,1)\n",
        "plt.imshow(test,'gray')\n",
        "plt.xticks([]),plt.yticks([])\n",
        "plt.subplot(1,2,2)\n",
        "plt.imshow(thresh, 'gray')\n",
        "plt.xticks([]),plt.yticks([])\n",
        "\n",
        "plt.show()"
      ],
      "execution_count": 4,
      "outputs": [
        {
          "output_type": "display_data",
          "data": {
            "image/png": "[encoded data removed]",
            "text/plain": [
              "<Figure size 432x288 with 2 Axes>"
            ]
          },
          "metadata": {
            "tags": []
          }
        }
      ]
    },
    {
      "cell_type": "code",
      "metadata": {
        "id": "Pv4u5IOtepEo"
      },
      "source": [
        "def preprocess(img):\n",
        "  threshold = 220\n",
        "  denoised = cv2.fastNlMeansDenoising(np.uint8(img),90,25,7,21)\n",
        "  ret,thresh = cv2.threshold(denoised,threshold,255,cv2.THRESH_BINARY)\n",
        "  return thresh"
      ],
      "execution_count": null,
      "outputs": []
    },
    {
      "cell_type": "code",
      "metadata": {
        "id": "ZlxGZiGnmnbO"
      },
      "source": [
        "#only run when loaded with fresh data\n",
        "train_x = [preprocess(img) for img in tqdm(train_x)]\n",
        "test_x = [preprocess(img) for img in tqdm(test_x)]\n",
        "\n",
        "x_train = train_x/ 255\n",
        "x_test = test_x / 255\n",
        "x_train = np.expand_dims(x_train, -1)\n",
        "x_test = np.expand_dims(x_test, -1)\n",
        "\n",
        "np.save('train_x_pre.npy', x_train)\n",
        "np.save('test_x_pre.npy', x_test)"
      ],
      "execution_count": null,
      "outputs": []
    },
    {
      "cell_type": "code",
      "metadata": {
        "id": "fyIkI2mgRkcj"
      },
      "source": [
        "print(\"x_train shape:\", x_train.shape)\n",
        "print(x_train.shape[0], \"train samples\")\n",
        "print(x_test.shape[0], \"test samples\")"
      ],
      "execution_count": null,
      "outputs": []
    },
    {
      "cell_type": "code",
      "metadata": {
        "id": "MD7GB94DJMuJ"
      },
      "source": [
        "y_train = utils.to_categorical(train_y, num_classes)"
      ],
      "execution_count": 5,
      "outputs": []
    },
    {
      "cell_type": "code",
      "metadata": {
        "id": "56tlT4CPhLVZ"
      },
      "source": [
        "train_datagen = ImageDataGenerator(zoom_range=0.3, rotation_range=30,\n",
        "                                   width_shift_range=0.2, height_shift_range=0.2, shear_range=0.2, fill_mode='nearest',\n",
        "                                   validation_split=0.1)"
      ],
      "execution_count": 6,
      "outputs": []
    },
    {
      "cell_type": "code",
      "metadata": {
        "id": "L-u0fKbJdnM6"
      },
      "source": [
        "train_generator = train_datagen.flow(train_x, y_train, batch_size=batch_size, subset='training')\n",
        "validation_generator = train_datagen.flow(train_x, y_train, batch_size=batch_size, subset='validation')"
      ],
      "execution_count": 7,
      "outputs": []
    },
    {
      "cell_type": "code",
      "metadata": {
        "id": "kmDDUs3UCt_A"
      },
      "source": [
        "#Attempt at transfer learning using vgg16\n",
        "vgg = vgg16.VGG16(include_top=False, weights='imagenet', \n",
        "                                     input_shape=input_shape)\n",
        "output = vgg.layers[-1].output\n",
        "output = keras.layers.Flatten()(output)\n",
        "vgg_model = Model(vgg.input, output)\n",
        "\n",
        "vgg_model.trainable = False\n",
        "for layer in vgg_model.layers:\n",
        "    layer.trainable = False"
      ],
      "execution_count": null,
      "outputs": []
    },
    {
      "cell_type": "code",
      "metadata": {
        "id": "YqblzC8x85j5"
      },
      "source": [
        "#if wanna resume from last session\n",
        "model = load_model('2nd_model')"
      ],
      "execution_count": 8,
      "outputs": []
    },
    {
      "cell_type": "code",
      "metadata": {
        "trusted": true,
        "colab": {
          "base_uri": "https://localhost:8080/"
        },
        "id": "jyquZCk4Ikq-",
        "outputId": "bab6b7e5-d851-425e-ed61-d9312e9ed5b2"
      },
      "source": [
        "model = Sequential()\n",
        "\n",
        "model.add(Conv2D(16, kernel_size=(3, 3), activation='relu', \n",
        "                 input_shape=input_shape))\n",
        "model.add(MaxPooling2D(pool_size=(2, 2)))\n",
        "\n",
        "model.add(Conv2D(64, kernel_size=(3, 3), activation='relu'))\n",
        "model.add(MaxPooling2D(pool_size=(2, 2)))\n",
        "\n",
        "model.add(Conv2D(128, kernel_size=(3, 3), activation='relu'))\n",
        "model.add(MaxPooling2D(pool_size=(2, 2)))\n",
        "\n",
        "model.add(Conv2D(128, kernel_size=(3, 3), activation='relu'))\n",
        "model.add(MaxPooling2D(pool_size=(2, 2)))\n",
        "\n",
        "model.add(Flatten())\n",
        "model.add(Dense(512, activation='relu'))\n",
        "model.add(Dropout(0.3))\n",
        "model.add(Dense(512, activation='relu'))\n",
        "model.add(Dropout(0.3))\n",
        "model.add(Dense(num_classes, activation='softmax'))\n",
        "\n",
        "model.compile(loss='CategoricalCrossentropy',\n",
        "          optimizer=optimizers.Adam(learning_rate=0.0001),\n",
        "          metrics=['accuracy'])\n",
        "\n",
        "model.summary()"
      ],
      "execution_count": 8,
      "outputs": [
        {
          "output_type": "stream",
          "text": [
            "Model: \"sequential\"\n",
            "_________________________________________________________________\n",
            "Layer (type)                 Output Shape              Param #   \n",
            "=================================================================\n",
            "conv2d (Conv2D)              (None, 126, 126, 16)      160       \n",
            "_________________________________________________________________\n",
            "max_pooling2d (MaxPooling2D) (None, 63, 63, 16)        0         \n",
            "_________________________________________________________________\n",
            "conv2d_1 (Conv2D)            (None, 61, 61, 64)        9280      \n",
            "_________________________________________________________________\n",
            "max_pooling2d_1 (MaxPooling2 (None, 30, 30, 64)        0         \n",
            "_________________________________________________________________\n",
            "conv2d_2 (Conv2D)            (None, 28, 28, 128)       73856     \n",
            "_________________________________________________________________\n",
            "max_pooling2d_2 (MaxPooling2 (None, 14, 14, 128)       0         \n",
            "_________________________________________________________________\n",
            "conv2d_3 (Conv2D)            (None, 12, 12, 128)       147584    \n",
            "_________________________________________________________________\n",
            "max_pooling2d_3 (MaxPooling2 (None, 6, 6, 128)         0         \n",
            "_________________________________________________________________\n",
            "flatten (Flatten)            (None, 4608)              0         \n",
            "_________________________________________________________________\n",
            "dense (Dense)                (None, 512)               2359808   \n",
            "_________________________________________________________________\n",
            "dropout (Dropout)            (None, 512)               0         \n",
            "_________________________________________________________________\n",
            "dense_1 (Dense)              (None, 512)               262656    \n",
            "_________________________________________________________________\n",
            "dropout_1 (Dropout)          (None, 512)               0         \n",
            "_________________________________________________________________\n",
            "dense_2 (Dense)              (None, 10)                5130      \n",
            "=================================================================\n",
            "Total params: 2,858,474\n",
            "Trainable params: 2,858,474\n",
            "Non-trainable params: 0\n",
            "_________________________________________________________________\n"
          ],
          "name": "stdout"
        }
      ]
    },
    {
      "cell_type": "code",
      "metadata": {
        "colab": {
          "base_uri": "https://localhost:8080/"
        },
        "id": "rNqx6WtWRpHc",
        "outputId": "5ddf0a6a-7dc5-41c9-9746-1462ecae833f"
      },
      "source": [
        "history = model.fit(train_generator,\n",
        "                    validation_data = validation_generator,\n",
        "                    epochs=epochs,\n",
        "                    verbose=1)"
      ],
      "execution_count": null,
      "outputs": [
        {
          "output_type": "stream",
          "text": [
            "Epoch 1/30\n",
            "1200/1200 [==============================] - 56s 47ms/step - loss: 0.6130 - accuracy: 0.7933 - val_loss: 0.5946 - val_accuracy: 0.7980\n",
            "Epoch 2/30\n",
            "1200/1200 [==============================] - 56s 47ms/step - loss: 0.6088 - accuracy: 0.7947 - val_loss: 0.6228 - val_accuracy: 0.7922\n",
            "Epoch 3/30\n",
            "1200/1200 [==============================] - 56s 46ms/step - loss: 0.6062 - accuracy: 0.7943 - val_loss: 0.6056 - val_accuracy: 0.7965\n",
            "Epoch 4/30\n",
            "1200/1200 [==============================] - 56s 46ms/step - loss: 0.5964 - accuracy: 0.7989 - val_loss: 0.6211 - val_accuracy: 0.7908\n",
            "Epoch 5/30\n",
            "1200/1200 [==============================] - 55s 46ms/step - loss: 0.5999 - accuracy: 0.7969 - val_loss: 0.6154 - val_accuracy: 0.7922\n",
            "Epoch 6/30\n",
            "1200/1200 [==============================] - 56s 46ms/step - loss: 0.5924 - accuracy: 0.8004 - val_loss: 0.6092 - val_accuracy: 0.7977\n",
            "Epoch 7/30\n",
            "1200/1200 [==============================] - 56s 47ms/step - loss: 0.5985 - accuracy: 0.7977 - val_loss: 0.5877 - val_accuracy: 0.7990\n",
            "Epoch 8/30\n",
            "1200/1200 [==============================] - 56s 47ms/step - loss: 0.5896 - accuracy: 0.8011 - val_loss: 0.6276 - val_accuracy: 0.7895\n",
            "Epoch 9/30\n",
            "1200/1200 [==============================] - 56s 46ms/step - loss: 0.5869 - accuracy: 0.8021 - val_loss: 0.5908 - val_accuracy: 0.8000\n",
            "Epoch 10/30\n",
            "1200/1200 [==============================] - 56s 47ms/step - loss: 0.5873 - accuracy: 0.8008 - val_loss: 0.5939 - val_accuracy: 0.8015\n",
            "Epoch 11/30\n",
            "1200/1200 [==============================] - 56s 46ms/step - loss: 0.5881 - accuracy: 0.8024 - val_loss: 0.5969 - val_accuracy: 0.7925\n",
            "Epoch 12/30\n",
            "1200/1200 [==============================] - 56s 46ms/step - loss: 0.5816 - accuracy: 0.8031 - val_loss: 0.5745 - val_accuracy: 0.8008\n",
            "Epoch 13/30\n",
            " 124/1200 [==>...........................] - ETA: 46s - loss: 0.5945 - accuracy: 0.7981"
          ],
          "name": "stdout"
        }
      ]
    },
    {
      "cell_type": "code",
      "metadata": {
        "colab": {
          "base_uri": "https://localhost:8080/"
        },
        "id": "9imsznUFLMm4",
        "outputId": "0c225f6b-ee41-45d5-a7a2-b1ff512bbaae"
      },
      "source": [
        "model.save('2nd_model')"
      ],
      "execution_count": 12,
      "outputs": [
        {
          "output_type": "stream",
          "text": [
            "WARNING:tensorflow:From /usr/local/lib/python3.6/dist-packages/tensorflow/python/training/tracking/tracking.py:111: Model.state_updates (from tensorflow.python.keras.engine.training) is deprecated and will be removed in a future version.\n",
            "Instructions for updating:\n",
            "This property should not be used in TensorFlow 2.0, as updates are applied automatically.\n",
            "WARNING:tensorflow:From /usr/local/lib/python3.6/dist-packages/tensorflow/python/training/tracking/tracking.py:111: Layer.updates (from tensorflow.python.keras.engine.base_layer) is deprecated and will be removed in a future version.\n",
            "Instructions for updating:\n",
            "This property should not be used in TensorFlow 2.0, as updates are applied automatically.\n",
            "INFO:tensorflow:Assets written to: 2nd_model/assets\n"
          ],
          "name": "stdout"
        }
      ]
    },
    {
      "cell_type": "code",
      "metadata": {
        "colab": {
          "base_uri": "https://localhost:8080/"
        },
        "id": "-urhQZtRLbCl",
        "outputId": "192cad9c-52ab-4934-abca-baeedde7a21d"
      },
      "source": [
        "!zip -r 2nd_model.zip 2nd_model"
      ],
      "execution_count": 13,
      "outputs": [
        {
          "output_type": "stream",
          "text": [
            "  adding: 2nd_model/ (stored 0%)\n",
            "  adding: 2nd_model/variables/ (stored 0%)\n",
            "  adding: 2nd_model/variables/variables.index (deflated 68%)\n",
            "  adding: 2nd_model/variables/variables.data-00000-of-00001 (deflated 7%)\n",
            "  adding: 2nd_model/assets/ (stored 0%)\n",
            "  adding: 2nd_model/saved_model.pb (deflated 89%)\n"
          ],
          "name": "stdout"
        }
      ]
    },
    {
      "cell_type": "code",
      "metadata": {
        "id": "45G2Ik8tLzd0"
      },
      "source": [
        "rec_model = load_model('2nd_model')"
      ],
      "execution_count": 3,
      "outputs": []
    },
    {
      "cell_type": "code",
      "metadata": {
        "colab": {
          "base_uri": "https://localhost:8080/"
        },
        "id": "p3xMTlOlM7ad",
        "outputId": "5e643f2b-f679-489f-f790-243f6ef6513d"
      },
      "source": [
        "test_x.shape"
      ],
      "execution_count": 13,
      "outputs": [
        {
          "output_type": "execute_result",
          "data": {
            "text/plain": [
              "(10000, 128, 128, 1)"
            ]
          },
          "metadata": {
            "tags": []
          },
          "execution_count": 13
        }
      ]
    },
    {
      "cell_type": "code",
      "metadata": {
        "colab": {
          "base_uri": "https://localhost:8080/"
        },
        "id": "CNHk8aaIM-4A",
        "outputId": "18eee1a2-a780-4ff7-8325-e8cceecc5ff3"
      },
      "source": [
        "type(test_x[0])"
      ],
      "execution_count": 14,
      "outputs": [
        {
          "output_type": "execute_result",
          "data": {
            "text/plain": [
              "numpy.ndarray"
            ]
          },
          "metadata": {
            "tags": []
          },
          "execution_count": 14
        }
      ]
    },
    {
      "cell_type": "code",
      "metadata": {
        "id": "3zhZilIfMVIG"
      },
      "source": [
        "results = rec_model.predict(test_x)"
      ],
      "execution_count": 15,
      "outputs": []
    },
    {
      "cell_type": "code",
      "metadata": {
        "id": "6ovwcWHjN509"
      },
      "source": [
        "results = [np.argmax(x) for x in results]"
      ],
      "execution_count": 16,
      "outputs": []
    },
    {
      "cell_type": "code",
      "metadata": {
        "colab": {
          "base_uri": "https://localhost:8080/"
        },
        "id": "iolS5DA6XFG1",
        "outputId": "c18f57ca-e9ec-42bb-fa79-2cae76f0dffd"
      },
      "source": [
        "results = np.array(results)\n",
        "results = results.flatten()\n",
        "results.shape"
      ],
      "execution_count": 17,
      "outputs": [
        {
          "output_type": "execute_result",
          "data": {
            "text/plain": [
              "(10000,)"
            ]
          },
          "metadata": {
            "tags": []
          },
          "execution_count": 17
        }
      ]
    },
    {
      "cell_type": "code",
      "metadata": {
        "id": "rd1nmS2CTmfV"
      },
      "source": [
        "dict_results = {'Id': np.arange(len(results)), 'Label': results}\n",
        "df_results = pd.DataFrame(data=dict_results)"
      ],
      "execution_count": 18,
      "outputs": []
    },
    {
      "cell_type": "code",
      "metadata": {
        "colab": {
          "base_uri": "https://localhost:8080/",
          "height": 424
        },
        "id": "WNuofoeBUyrH",
        "outputId": "2555d579-2be0-484a-d14e-e1073621f52c"
      },
      "source": [
        "df_results"
      ],
      "execution_count": 19,
      "outputs": [
        {
          "output_type": "execute_result",
          "data": {
            "text/html": [
              "<div>\n",
              "<style scoped>\n",
              "    .dataframe tbody tr th:only-of-type {\n",
              "        vertical-align: middle;\n",
              "    }\n",
              "\n",
              "    .dataframe tbody tr th {\n",
              "        vertical-align: top;\n",
              "    }\n",
              "\n",
              "    .dataframe thead th {\n",
              "        text-align: right;\n",
              "    }\n",
              "</style>\n",
              "<table border=\"1\" class=\"dataframe\">\n",
              "  <thead>\n",
              "    <tr style=\"text-align: right;\">\n",
              "      <th></th>\n",
              "      <th>Id</th>\n",
              "      <th>Label</th>\n",
              "    </tr>\n",
              "  </thead>\n",
              "  <tbody>\n",
              "    <tr>\n",
              "      <th>0</th>\n",
              "      <td>0</td>\n",
              "      <td>7</td>\n",
              "    </tr>\n",
              "    <tr>\n",
              "      <th>1</th>\n",
              "      <td>1</td>\n",
              "      <td>5</td>\n",
              "    </tr>\n",
              "    <tr>\n",
              "      <th>2</th>\n",
              "      <td>2</td>\n",
              "      <td>9</td>\n",
              "    </tr>\n",
              "    <tr>\n",
              "      <th>3</th>\n",
              "      <td>3</td>\n",
              "      <td>8</td>\n",
              "    </tr>\n",
              "    <tr>\n",
              "      <th>4</th>\n",
              "      <td>4</td>\n",
              "      <td>6</td>\n",
              "    </tr>\n",
              "    <tr>\n",
              "      <th>...</th>\n",
              "      <td>...</td>\n",
              "      <td>...</td>\n",
              "    </tr>\n",
              "    <tr>\n",
              "      <th>9995</th>\n",
              "      <td>9995</td>\n",
              "      <td>5</td>\n",
              "    </tr>\n",
              "    <tr>\n",
              "      <th>9996</th>\n",
              "      <td>9996</td>\n",
              "      <td>9</td>\n",
              "    </tr>\n",
              "    <tr>\n",
              "      <th>9997</th>\n",
              "      <td>9997</td>\n",
              "      <td>5</td>\n",
              "    </tr>\n",
              "    <tr>\n",
              "      <th>9998</th>\n",
              "      <td>9998</td>\n",
              "      <td>3</td>\n",
              "    </tr>\n",
              "    <tr>\n",
              "      <th>9999</th>\n",
              "      <td>9999</td>\n",
              "      <td>5</td>\n",
              "    </tr>\n",
              "  </tbody>\n",
              "</table>\n",
              "<p>10000 rows × 2 columns</p>\n",
              "</div>"
            ],
            "text/plain": [
              "        Id  Label\n",
              "0        0      7\n",
              "1        1      5\n",
              "2        2      9\n",
              "3        3      8\n",
              "4        4      6\n",
              "...    ...    ...\n",
              "9995  9995      5\n",
              "9996  9996      9\n",
              "9997  9997      5\n",
              "9998  9998      3\n",
              "9999  9999      5\n",
              "\n",
              "[10000 rows x 2 columns]"
            ]
          },
          "metadata": {
            "tags": []
          },
          "execution_count": 19
        }
      ]
    },
    {
      "cell_type": "code",
      "metadata": {
        "id": "B3O9Rh03QHbZ"
      },
      "source": [
        "compression_opts = dict(method='zip',\n",
        "                        archive_name='results.csv')  \n",
        "df_results.to_csv('results.zip', index=False, compression=compression_opts)"
      ],
      "execution_count": 20,
      "outputs": []
    }
  ]
}